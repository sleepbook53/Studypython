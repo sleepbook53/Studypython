{
 "cells": [
  {
   "cell_type": "markdown",
   "metadata": {},
   "source": [
    "# BOOOK RENTAL SHOP ON JUPYTER NOTE BOOK"
   ]
  },
  {
   "cell_type": "code",
   "execution_count": 3,
   "metadata": {},
   "outputs": [],
   "source": [
    "import cx_Oracle as ora"
   ]
  },
  {
   "cell_type": "markdown",
   "metadata": {},
   "source": [
    "#### DB 연결 함수\n",
    "사용법\n",
    "> myconn"
   ]
  },
  {
   "cell_type": "code",
   "execution_count": 4,
   "metadata": {},
   "outputs": [],
   "source": [
    "def myconn():\n",
    "    dsn = ora.makedsn('localhost', 1521, service_name='orcl')\n",
    "    conn = ora.connect(user='scott', password='tiger', dsn=dsn, encoding='utf-8')\n",
    "    return conn"
   ]
  },
  {
   "cell_type": "markdown",
   "metadata": {},
   "source": [
    "#### dvtbl 전체 조회 함수\n",
    "사용법\n",
    ">getAllDataFromDivtbl(conn)은 연결 개체"
   ]
  },
  {
   "cell_type": "code",
   "execution_count": 5,
   "metadata": {},
   "outputs": [],
   "source": [
    "def getAllDataFromDivtbl(conn) :\n",
    "    cur = conn.cursor()\n",
    "    query = 'SELECT * FROM divtbl'\n",
    "    for row in cur.execute(query) :\n",
    "        print(row)"
   ]
  },
  {
   "cell_type": "markdown",
   "metadata": {},
   "source": [
    "#### devtbl의 신규 장르 입력\n",
    "사용법 tup = (division, names)\n",
    ">setDataIntoDvitbl(conn, tup)\n"
   ]
  },
  {
   "cell_type": "code",
   "execution_count": 30,
   "metadata": {},
   "outputs": [],
   "source": [
    "def setDataIntoDvitbl(conn, tup):\n",
    "    cur =conn.cursor()\n",
    "    query = '''INSERT INTO divtbl (division, names)\n",
    "                VALUES (:1, :2)'''\n",
    "    cur.execute(query,tup)\n",
    "    cur.close()\n",
    "    conn.commit() #COMMIT ; 필수 !"
   ]
  },
  {
   "cell_type": "markdown",
   "metadata": {},
   "source": [
    "#### 책 대여 프로그램 시작"
   ]
  },
  {
   "cell_type": "code",
   "execution_count": 9,
   "metadata": {},
   "outputs": [
    {
     "name": "stdout",
     "output_type": "stream",
     "text": [
      "접속\n"
     ]
    }
   ],
   "source": [
    "scott_con = myconn()\n",
    "print('접속')"
   ]
  },
  {
   "cell_type": "markdown",
   "metadata": {},
   "source": [
    "#### 책 장르 정보 조회\n",
    "getAllDataFromDivtbl(scott_con)"
   ]
  },
  {
   "cell_type": "code",
   "execution_count": 23,
   "metadata": {},
   "outputs": [
    {
     "name": "stdout",
     "output_type": "stream",
     "text": [
      "('B001', '공포/스릴러')\n",
      "('B002', '로맨스')\n",
      "('B003', '무협')\n",
      "('B004', '전쟁/역사')\n",
      "('B005', '추리')\n",
      "('B006', 'SF/판타지')\n",
      "('I001', '프로그래밍')\n",
      "('i101', '장르몰라')\n",
      "('I101', '장르몰라')\n",
      "('I003', '네트워크')\n"
     ]
    }
   ],
   "source": [
    "getAllDataFromDivtbl(scott_con)"
   ]
  },
  {
   "cell_type": "markdown",
   "metadata": {},
   "source": [
    "#### 책 장르 정보 입력"
   ]
  },
  {
   "cell_type": "code",
   "execution_count": 28,
   "metadata": {},
   "outputs": [
    {
     "ename": "IntegrityError",
     "evalue": "ORA-00001: 무결성 제약 조건(SCOTT.DIVTBL_PK)에 위배됩니다",
     "output_type": "error",
     "traceback": [
      "\u001b[1;31m---------------------------------------------------------------------------\u001b[0m",
      "\u001b[1;31mIntegrityError\u001b[0m                            Traceback (most recent call last)",
      "Input \u001b[1;32mIn [28]\u001b[0m, in \u001b[0;36m<module>\u001b[1;34m\u001b[0m\n\u001b[0;32m      2\u001b[0m names \u001b[38;5;241m=\u001b[39m \u001b[38;5;124m'\u001b[39m\u001b[38;5;124m장르몰라\u001b[39m\u001b[38;5;124m'\u001b[39m\n\u001b[0;32m      3\u001b[0m tup \u001b[38;5;241m=\u001b[39m (division, names)\n\u001b[1;32m----> 4\u001b[0m \u001b[43msetDataIntoDvitbl\u001b[49m\u001b[43m(\u001b[49m\u001b[43mscott_con\u001b[49m\u001b[43m,\u001b[49m\u001b[43m \u001b[49m\u001b[43mtup\u001b[49m\u001b[43m)\u001b[49m\n\u001b[0;32m      5\u001b[0m getAllDataFromDivtbl(scott_con)\n",
      "Input \u001b[1;32mIn [26]\u001b[0m, in \u001b[0;36msetDataIntoDvitbl\u001b[1;34m(conn, tup)\u001b[0m\n\u001b[0;32m      2\u001b[0m cur \u001b[38;5;241m=\u001b[39mconn\u001b[38;5;241m.\u001b[39mcursor()\n\u001b[0;32m      3\u001b[0m query \u001b[38;5;241m=\u001b[39m \u001b[38;5;124m'''\u001b[39m\u001b[38;5;124mINSERT INTO divtbl (division, names)\u001b[39m\n\u001b[0;32m      4\u001b[0m \u001b[38;5;124m            VALUES (:1, :2)\u001b[39m\u001b[38;5;124m'''\u001b[39m\n\u001b[1;32m----> 5\u001b[0m \u001b[43mcur\u001b[49m\u001b[38;5;241;43m.\u001b[39;49m\u001b[43mexecute\u001b[49m\u001b[43m(\u001b[49m\u001b[43mquery\u001b[49m\u001b[43m,\u001b[49m\u001b[43mtup\u001b[49m\u001b[43m)\u001b[49m\n\u001b[0;32m      6\u001b[0m cur\u001b[38;5;241m.\u001b[39mclose()\n\u001b[0;32m      7\u001b[0m conn\u001b[38;5;241m.\u001b[39mcommit()\n",
      "\u001b[1;31mIntegrityError\u001b[0m: ORA-00001: 무결성 제약 조건(SCOTT.DIVTBL_PK)에 위배됩니다"
     ]
    }
   ],
   "source": [
    "division = 'I101'\n",
    "names = '장르몰라'\n",
    "tup = (division, names)\n",
    "setDataIntoDvitbl(scott_con, tup)\n",
    "getAllDataFromDivtbl(scott_con)"
   ]
  },
  {
   "cell_type": "markdown",
   "metadata": {},
   "source": []
  }
 ],
 "metadata": {
  "interpreter": {
   "hash": "e5bc2cf9d9a3d85fb4b9cf5c2acdd222f933ac2e5b2df75a3f82eb3e684a5541"
  },
  "kernelspec": {
   "display_name": "Python 3.10.1 64-bit",
   "language": "python",
   "name": "python3"
  },
  "language_info": {
   "codemirror_mode": {
    "name": "ipython",
    "version": 3
   },
   "file_extension": ".py",
   "mimetype": "text/x-python",
   "name": "python",
   "nbconvert_exporter": "python",
   "pygments_lexer": "ipython3",
   "version": "3.10.1"
  },
  "orig_nbformat": 4
 },
 "nbformat": 4,
 "nbformat_minor": 2
}
