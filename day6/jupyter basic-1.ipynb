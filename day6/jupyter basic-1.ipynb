{
  "cells": [
    {
      "cell_type": "markdown",
      "metadata": {},
      "source": [
        "# Hello Jupyter!\n",
        "### 기본 파이썬 시작 on Jyupter notebook\n"
      ]
    },
    {
      "cell_type": "code",
      "execution_count": 3,
      "metadata": {},
      "outputs": [
        {
          "name": "stdout",
          "output_type": "stream",
          "text": [
            "Hellow jypter\n"
          ]
        }
      ],
      "source": [
        "print('Hellow jypter')\n"
      ]
    },
    {
      "cell_type": "markdown",
      "metadata": {},
      "source": [
        "### 변수 사용 방법 이해\n",
        "\n",
        "- 변수명이든 뭐든 print없이 입력이 가능하지만, 최근 입력된 '하나'만 출력이 됨"
      ]
    },
    {
      "cell_type": "code",
      "execution_count": null,
      "metadata": {},
      "outputs": [
        {
          "ename": "",
          "evalue": "",
          "output_type": "error",
          "traceback": [
            "\u001b[1;31mFailed to start the Kernel. \n",
            "AttributeError: module 'collections' has no attribute 'Callable'. \n",
            "View Jupyter <a href='command:jupyter.viewOutput'>log</a> for further details."
          ]
        }
      ],
      "source": [
        "a = 10\n",
        "b= 20\n",
        "b\n",
        "a"
      ]
    },
    {
      "cell_type": "markdown",
      "metadata": {},
      "source": [
        "### 쥬피터 디버깅 방법\n",
        "\n",
        "아래의 패키지 설치\n",
        "\n",
        "|  pip intall pdbpp"
      ]
    },
    {
      "cell_type": "code",
      "execution_count": null,
      "metadata": {},
      "outputs": [
        {
          "ename": "",
          "evalue": "",
          "output_type": "error",
          "traceback": [
            "\u001b[1;31mFailed to start the Kernel. \n",
            "AttributeError: module 'collections' has no attribute 'Callable'. \n",
            "View Jupyter <a href='command:jupyter.viewOutput'>log</a> for further details."
          ]
        }
      ],
      "source": [
        "x, y = 1, 5\n",
        "\n",
        "input pdb; pdb.set_trace()\n",
        "print(x + y)\n",
        "\n",
        "input pdb; pdb.set_trace()\n",
        "print(x + y -1)\n"
      ]
    },
    {
      "cell_type": "markdown",
      "metadata": {},
      "source": []
    }
  ],
  "metadata": {
    "interpreter": {
      "hash": "e5bc2cf9d9a3d85fb4b9cf5c2acdd222f933ac2e5b2df75a3f82eb3e684a5541"
    },
    "kernelspec": {
      "display_name": "Python 3.10.1 64-bit",
      "language": "python",
      "name": "python3"
    },
    "language_info": {
      "codemirror_mode": {
        "name": "ipython",
        "version": 3
      },
      "file_extension": ".py",
      "mimetype": "text/x-python",
      "name": "python",
      "nbconvert_exporter": "python",
      "pygments_lexer": "ipython3",
      "version": "3.10.1"
    },
    "orig_nbformat": 4
  },
  "nbformat": 4,
  "nbformat_minor": 2
}
