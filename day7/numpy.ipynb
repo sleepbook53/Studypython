{
 "cells": [
  {
   "cell_type": "code",
   "execution_count": null,
   "metadata": {},
   "outputs": [],
   "source": [
    "#NA, Not a Number 결측값 예측\n",
    "#for 컴프리헨션\n",
    "# number=[]\n",
    "# for x in range(10) :\n",
    "#     number.append(x)\n",
    "# ------------------------------------\n",
    "# #위의 구문을 아래와 같이 사용 가능( for가 세개 이상 넘어가면 힘듦)\n",
    "# number[x for x in range(10)]\n",
    "\n"
   ]
  }
 ],
 "metadata": {
  "interpreter": {
   "hash": "e5bc2cf9d9a3d85fb4b9cf5c2acdd222f933ac2e5b2df75a3f82eb3e684a5541"
  },
  "kernelspec": {
   "display_name": "Python 3.10.1 64-bit",
   "language": "python",
   "name": "python3"
  },
  "language_info": {
   "name": "python",
   "version": "3.10.1"
  },
  "orig_nbformat": 4
 },
 "nbformat": 4,
 "nbformat_minor": 2
}
