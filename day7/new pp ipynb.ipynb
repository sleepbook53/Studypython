{
 "cells": [
  {
   "cell_type": "markdown",
   "metadata": {},
   "source": [
    "##리스트와 행령의 차이점\n",
    "- 행렬구조에 특화된 numpy모듈에 대하여 학습\n",
    "- 행렬을 반드시 행과 열의 갯수가 인덱싱마다 같아야하고, 연산이 가능함. 자료의 성격이 같아야함"
   ]
  },
  {
   "cell_type": "code",
   "execution_count": null,
   "metadata": {},
   "outputs": [],
   "source": [
    "from PIL import Image\n",
    "img=image.open('./pic/img3.jpg')\n",
    "img"
   ]
  }
 ],
 "metadata": {
  "interpreter": {
   "hash": "e5bc2cf9d9a3d85fb4b9cf5c2acdd222f933ac2e5b2df75a3f82eb3e684a5541"
  },
  "kernelspec": {
   "display_name": "Python 3.10.1 64-bit",
   "language": "python",
   "name": "python3"
  },
  "language_info": {
   "name": "python",
   "version": "3.10.1"
  },
  "orig_nbformat": 4
 },
 "nbformat": 4,
 "nbformat_minor": 2
}
